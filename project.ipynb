{
 "cells": [
  {
   "cell_type": "markdown",
   "metadata": {},
   "source": [
    "# Credit Card Anomaly Detection Using Unsupervised Techniques"
   ]
  },
  {
   "cell_type": "markdown",
   "metadata": {},
   "source": [
    "Anomaly detection is the identification of data points, items, observations or events that do not conform to the expected pattern of a given group. These anomalies occur very infrequently but may signify a large and significant threat such as cyber intrusions or fraud. Anomaly detection is heavily used in behavioral analysis and other forms of analysis in order to aid in learning about the detection, identification and prediction of the occurrence of these anomalies."
   ]
  },
  {
   "cell_type": "markdown",
   "metadata": {},
   "source": [
    "##### What to expect?"
   ]
  },
  {
   "cell_type": "markdown",
   "metadata": {},
   "source": [
    "This notebook will extensively cover 10 steps to achieve fraud detection, so sit back and i will try to be as clear as possible.\n",
    "\n",
    "    1. Algorithm/Model Selection\n",
    "    2. Data identification and exploration\n",
    "    3. Data visualization and presentation\n",
    "    4. Dataset splitting and training\n",
    "    5. Dataset pre-processing \n",
    "    6. Resampling of data in the dataset\n",
    "    7. Dataset outlier detection using various algorithms (IForest, LOF, COPOD, and DAN)\n",
    "    8. Visualization of the outliers and inliers (concentrating more on the outliers)\n",
    "    9. Evaluation and metrics\n",
    "    10. Predicting fraudulent transactions with ‘unseen data’\n",
    "\n",
    "Let's Go!!!"
   ]
  },
  {
   "cell_type": "markdown",
   "metadata": {},
   "source": [
    "### 1. Algorithm/Model Selection\n",
    "\n",
    "Anomaly detection can be approached in many ways depending on the nature of data and circumstances. Following is a classification of some of those techniques (https://iwringer.wordpress.com/2015/11/17/anomaly-detection-concepts-and-techniques/)\n",
    "\n",
    "A system for anomaly detection should NOT be a supervised ML algorithm as it will (maybe) learn only anomalies it has seen during training. The true magic lies in being able to identify an anomaly never seen before...\n",
    "\n",
    "Some of the algorithms we will test out are;\n",
    "- Multivariate Gaussian probability\n",
    "- Auto Encoders\n",
    "- Local Outlier Factor LOF\n",
    "- Robust Covariance (Elliptic Envelope)\n",
    "- Isolation Forest\n",
    "- One Class SVM"
   ]
  },
  {
   "cell_type": "markdown",
   "metadata": {},
   "source": []
  }
 ],
 "metadata": {
  "language_info": {
   "name": "python"
  },
  "orig_nbformat": 4
 },
 "nbformat": 4,
 "nbformat_minor": 2
}
